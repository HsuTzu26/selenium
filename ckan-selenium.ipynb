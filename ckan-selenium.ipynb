{
 "cells": [
  {
   "cell_type": "markdown",
   "id": "f25e2574-695d-499d-ae8c-3d898c06961b",
   "metadata": {},
   "source": [
    "https://medium.com/marketingdatascience/selenium%E6%95%99%E5%AD%B8-%E4%B8%80-%E5%A6%82%E4%BD%95%E4%BD%BF%E7%94%A8webdriver-send-keys-988816ce9bed"
   ]
  },
  {
   "cell_type": "code",
   "execution_count": 11,
   "id": "fe6c5546-64eb-4d38-b525-c95bdaee4eda",
   "metadata": {},
   "outputs": [],
   "source": [
    "# 載入需要的套件\n",
    "from selenium import webdriver\n",
    "\n",
    "# 開啟瀏覽器視窗(Edge)\n",
    "# 方法一：執行前需開啟msedgedriver且與執行檔在同一個工作目錄\n",
    "driver = webdriver.Edge()\n",
    "# 方法二：或是直接指定exe檔案路徑\n",
    "# driver = webdriver.Edge(“桌面\\msedgedriver”)"
   ]
  },
  {
   "cell_type": "code",
   "execution_count": 13,
   "id": "661fd20f-96f2-4077-9751-c62af8f91cb6",
   "metadata": {},
   "outputs": [],
   "source": [
    "driver.get(\"http://www.google.com\")# 更改網址以前往不同網頁\n",
    "# driver.close() # 關閉瀏覽器視窗\n",
    "# 定位搜尋框\n",
    "search_box = driver.find_element(\"name\", \"q\")\n",
    "# 傳入字串\n",
    "search_box.send_keys(\"Selenium Python\")\n",
    "search_box.submit()\n",
    "\n"
   ]
  },
  {
   "cell_type": "code",
   "execution_count": 15,
   "id": "7ce3fc26-b405-4465-b82c-ffe43d3f2426",
   "metadata": {},
   "outputs": [
    {
     "data": {
      "text/plain": [
       "'\\n如果想要刪掉原先已經輸入的文字，\\n可以使用clear()清除網頁元素原先的字串或搜索詞。\\n'"
      ]
     },
     "execution_count": 15,
     "metadata": {},
     "output_type": "execute_result"
    }
   ],
   "source": [
    "'''\n",
    "如果想要刪掉原先已經輸入的文字，\n",
    "可以使用clear()清除網頁元素原先的字串或搜索詞。\n",
    "'''\n",
    "# search_box.clear()"
   ]
  },
  {
   "cell_type": "code",
   "execution_count": 19,
   "id": "2fc782f2-dae9-492a-bd67-fbb5e0334e63",
   "metadata": {},
   "outputs": [
    {
     "ename": "NoSuchElementException",
     "evalue": "Message: no such element: Unable to locate element: {\"method\":\"xpath\",\"selector\":\"//*[@id=\"tsf\"]/div[1]/div[1]/div[2]/button/div/span/svg\"}\n  (Session info: MicrosoftEdge=120.0.2210.91); For documentation on this error, please visit: https://www.selenium.dev/documentation/webdriver/troubleshooting/errors#no-such-element-exception\nStacktrace:\n\tGetHandleVerifier [0x00007FF665910342+58194]\n\tMicrosoft::Applications::Events::ILogConfiguration::operator* [0x00007FF66589ECA2+216530]\n\t(No symbol) [0x00007FF6656B9E1B]\n\t(No symbol) [0x00007FF665709C6F]\n\t(No symbol) [0x00007FF665709DA5]\n\t(No symbol) [0x00007FF66574BB27]\n\t(No symbol) [0x00007FF66572C11F]\n\t(No symbol) [0x00007FF6656FD3E1]\n\t(No symbol) [0x00007FF665748A7E]\n\t(No symbol) [0x00007FF66572BD43]\n\t(No symbol) [0x00007FF6656FC162]\n\t(No symbol) [0x00007FF6656FB5BD]\n\t(No symbol) [0x00007FF6656FC994]\n\tMicrosoft::Applications::Events::EventProperty::to_string [0x00007FF665AC722A+1051354]\n\t(No symbol) [0x00007FF66577F596]\n\tMicrosoft::Applications::Events::EventProperty::clear [0x00007FF665816205+34245]\n\tMicrosoft::Applications::Events::EventProperty::clear [0x00007FF66580E6AD+2669]\n\tMicrosoft::Applications::Events::EventProperty::to_string [0x00007FF665AC5F23+1046483]\n\tMicrosoft::Applications::Events::ILogConfiguration::operator* [0x00007FF6658A8988+256696]\n\tMicrosoft::Applications::Events::ILogConfiguration::operator* [0x00007FF6658A4114+238148]\n\tMicrosoft::Applications::Events::ILogConfiguration::operator* [0x00007FF6658A4242+238450]\n\tMicrosoft::Applications::Events::ILogConfiguration::operator* [0x00007FF665898FE1+192785]\n\tBaseThreadInitThunk [0x00007FFD62CC257D+29]\n\tRtlUserThreadStart [0x00007FFD6468AA58+40]\n",
     "output_type": "error",
     "traceback": [
      "\u001b[1;31m---------------------------------------------------------------------------\u001b[0m",
      "\u001b[1;31mNoSuchElementException\u001b[0m                    Traceback (most recent call last)",
      "\u001b[1;32m<ipython-input-19-7e8dcd68a995>\u001b[0m in \u001b[0;36m<module>\u001b[1;34m\u001b[0m\n\u001b[0;32m      1\u001b[0m \u001b[1;32mfrom\u001b[0m \u001b[0mselenium\u001b[0m\u001b[1;33m.\u001b[0m\u001b[0mwebdriver\u001b[0m\u001b[1;33m.\u001b[0m\u001b[0mcommon\u001b[0m\u001b[1;33m.\u001b[0m\u001b[0mby\u001b[0m \u001b[1;32mimport\u001b[0m \u001b[0mBy\u001b[0m\u001b[1;33m\u001b[0m\u001b[1;33m\u001b[0m\u001b[0m\n\u001b[0;32m      2\u001b[0m \u001b[1;33m\u001b[0m\u001b[0m\n\u001b[1;32m----> 3\u001b[1;33m \u001b[0mdriver\u001b[0m\u001b[1;33m.\u001b[0m\u001b[0mfind_element\u001b[0m\u001b[1;33m(\u001b[0m\u001b[0mBy\u001b[0m\u001b[1;33m.\u001b[0m\u001b[0mXPATH\u001b[0m\u001b[1;33m,\u001b[0m \u001b[1;34m'//*[@id=\"tsf\"]/div[1]/div[1]/div[2]/button/div/span/svg'\u001b[0m\u001b[1;33m)\u001b[0m\u001b[1;33m\u001b[0m\u001b[1;33m\u001b[0m\u001b[0m\n\u001b[0m",
      "\u001b[1;32m~\\anaconda3\\lib\\site-packages\\selenium\\webdriver\\remote\\webdriver.py\u001b[0m in \u001b[0;36mfind_element\u001b[1;34m(self, by, value)\u001b[0m\n\u001b[0;32m    740\u001b[0m             \u001b[0mvalue\u001b[0m \u001b[1;33m=\u001b[0m \u001b[1;34mf'[name=\"{value}\"]'\u001b[0m\u001b[1;33m\u001b[0m\u001b[1;33m\u001b[0m\u001b[0m\n\u001b[0;32m    741\u001b[0m \u001b[1;33m\u001b[0m\u001b[0m\n\u001b[1;32m--> 742\u001b[1;33m         \u001b[1;32mreturn\u001b[0m \u001b[0mself\u001b[0m\u001b[1;33m.\u001b[0m\u001b[0mexecute\u001b[0m\u001b[1;33m(\u001b[0m\u001b[0mCommand\u001b[0m\u001b[1;33m.\u001b[0m\u001b[0mFIND_ELEMENT\u001b[0m\u001b[1;33m,\u001b[0m \u001b[1;33m{\u001b[0m\u001b[1;34m\"using\"\u001b[0m\u001b[1;33m:\u001b[0m \u001b[0mby\u001b[0m\u001b[1;33m,\u001b[0m \u001b[1;34m\"value\"\u001b[0m\u001b[1;33m:\u001b[0m \u001b[0mvalue\u001b[0m\u001b[1;33m}\u001b[0m\u001b[1;33m)\u001b[0m\u001b[1;33m[\u001b[0m\u001b[1;34m\"value\"\u001b[0m\u001b[1;33m]\u001b[0m\u001b[1;33m\u001b[0m\u001b[1;33m\u001b[0m\u001b[0m\n\u001b[0m\u001b[0;32m    743\u001b[0m \u001b[1;33m\u001b[0m\u001b[0m\n\u001b[0;32m    744\u001b[0m     \u001b[1;32mdef\u001b[0m \u001b[0mfind_elements\u001b[0m\u001b[1;33m(\u001b[0m\u001b[0mself\u001b[0m\u001b[1;33m,\u001b[0m \u001b[0mby\u001b[0m\u001b[1;33m=\u001b[0m\u001b[0mBy\u001b[0m\u001b[1;33m.\u001b[0m\u001b[0mID\u001b[0m\u001b[1;33m,\u001b[0m \u001b[0mvalue\u001b[0m\u001b[1;33m:\u001b[0m \u001b[0mOptional\u001b[0m\u001b[1;33m[\u001b[0m\u001b[0mstr\u001b[0m\u001b[1;33m]\u001b[0m \u001b[1;33m=\u001b[0m \u001b[1;32mNone\u001b[0m\u001b[1;33m)\u001b[0m \u001b[1;33m->\u001b[0m \u001b[0mList\u001b[0m\u001b[1;33m[\u001b[0m\u001b[0mWebElement\u001b[0m\u001b[1;33m]\u001b[0m\u001b[1;33m:\u001b[0m\u001b[1;33m\u001b[0m\u001b[1;33m\u001b[0m\u001b[0m\n",
      "\u001b[1;32m~\\anaconda3\\lib\\site-packages\\selenium\\webdriver\\remote\\webdriver.py\u001b[0m in \u001b[0;36mexecute\u001b[1;34m(self, driver_command, params)\u001b[0m\n\u001b[0;32m    346\u001b[0m         \u001b[0mresponse\u001b[0m \u001b[1;33m=\u001b[0m \u001b[0mself\u001b[0m\u001b[1;33m.\u001b[0m\u001b[0mcommand_executor\u001b[0m\u001b[1;33m.\u001b[0m\u001b[0mexecute\u001b[0m\u001b[1;33m(\u001b[0m\u001b[0mdriver_command\u001b[0m\u001b[1;33m,\u001b[0m \u001b[0mparams\u001b[0m\u001b[1;33m)\u001b[0m\u001b[1;33m\u001b[0m\u001b[1;33m\u001b[0m\u001b[0m\n\u001b[0;32m    347\u001b[0m         \u001b[1;32mif\u001b[0m \u001b[0mresponse\u001b[0m\u001b[1;33m:\u001b[0m\u001b[1;33m\u001b[0m\u001b[1;33m\u001b[0m\u001b[0m\n\u001b[1;32m--> 348\u001b[1;33m             \u001b[0mself\u001b[0m\u001b[1;33m.\u001b[0m\u001b[0merror_handler\u001b[0m\u001b[1;33m.\u001b[0m\u001b[0mcheck_response\u001b[0m\u001b[1;33m(\u001b[0m\u001b[0mresponse\u001b[0m\u001b[1;33m)\u001b[0m\u001b[1;33m\u001b[0m\u001b[1;33m\u001b[0m\u001b[0m\n\u001b[0m\u001b[0;32m    349\u001b[0m             \u001b[0mresponse\u001b[0m\u001b[1;33m[\u001b[0m\u001b[1;34m\"value\"\u001b[0m\u001b[1;33m]\u001b[0m \u001b[1;33m=\u001b[0m \u001b[0mself\u001b[0m\u001b[1;33m.\u001b[0m\u001b[0m_unwrap_value\u001b[0m\u001b[1;33m(\u001b[0m\u001b[0mresponse\u001b[0m\u001b[1;33m.\u001b[0m\u001b[0mget\u001b[0m\u001b[1;33m(\u001b[0m\u001b[1;34m\"value\"\u001b[0m\u001b[1;33m,\u001b[0m \u001b[1;32mNone\u001b[0m\u001b[1;33m)\u001b[0m\u001b[1;33m)\u001b[0m\u001b[1;33m\u001b[0m\u001b[1;33m\u001b[0m\u001b[0m\n\u001b[0;32m    350\u001b[0m             \u001b[1;32mreturn\u001b[0m \u001b[0mresponse\u001b[0m\u001b[1;33m\u001b[0m\u001b[1;33m\u001b[0m\u001b[0m\n",
      "\u001b[1;32m~\\anaconda3\\lib\\site-packages\\selenium\\webdriver\\remote\\errorhandler.py\u001b[0m in \u001b[0;36mcheck_response\u001b[1;34m(self, response)\u001b[0m\n\u001b[0;32m    227\u001b[0m                 \u001b[0malert_text\u001b[0m \u001b[1;33m=\u001b[0m \u001b[0mvalue\u001b[0m\u001b[1;33m[\u001b[0m\u001b[1;34m\"alert\"\u001b[0m\u001b[1;33m]\u001b[0m\u001b[1;33m.\u001b[0m\u001b[0mget\u001b[0m\u001b[1;33m(\u001b[0m\u001b[1;34m\"text\"\u001b[0m\u001b[1;33m)\u001b[0m\u001b[1;33m\u001b[0m\u001b[1;33m\u001b[0m\u001b[0m\n\u001b[0;32m    228\u001b[0m             \u001b[1;32mraise\u001b[0m \u001b[0mexception_class\u001b[0m\u001b[1;33m(\u001b[0m\u001b[0mmessage\u001b[0m\u001b[1;33m,\u001b[0m \u001b[0mscreen\u001b[0m\u001b[1;33m,\u001b[0m \u001b[0mstacktrace\u001b[0m\u001b[1;33m,\u001b[0m \u001b[0malert_text\u001b[0m\u001b[1;33m)\u001b[0m  \u001b[1;31m# type: ignore[call-arg]  # mypy is not smart enough here\u001b[0m\u001b[1;33m\u001b[0m\u001b[1;33m\u001b[0m\u001b[0m\n\u001b[1;32m--> 229\u001b[1;33m         \u001b[1;32mraise\u001b[0m \u001b[0mexception_class\u001b[0m\u001b[1;33m(\u001b[0m\u001b[0mmessage\u001b[0m\u001b[1;33m,\u001b[0m \u001b[0mscreen\u001b[0m\u001b[1;33m,\u001b[0m \u001b[0mstacktrace\u001b[0m\u001b[1;33m)\u001b[0m\u001b[1;33m\u001b[0m\u001b[1;33m\u001b[0m\u001b[0m\n\u001b[0m",
      "\u001b[1;31mNoSuchElementException\u001b[0m: Message: no such element: Unable to locate element: {\"method\":\"xpath\",\"selector\":\"//*[@id=\"tsf\"]/div[1]/div[1]/div[2]/button/div/span/svg\"}\n  (Session info: MicrosoftEdge=120.0.2210.91); For documentation on this error, please visit: https://www.selenium.dev/documentation/webdriver/troubleshooting/errors#no-such-element-exception\nStacktrace:\n\tGetHandleVerifier [0x00007FF665910342+58194]\n\tMicrosoft::Applications::Events::ILogConfiguration::operator* [0x00007FF66589ECA2+216530]\n\t(No symbol) [0x00007FF6656B9E1B]\n\t(No symbol) [0x00007FF665709C6F]\n\t(No symbol) [0x00007FF665709DA5]\n\t(No symbol) [0x00007FF66574BB27]\n\t(No symbol) [0x00007FF66572C11F]\n\t(No symbol) [0x00007FF6656FD3E1]\n\t(No symbol) [0x00007FF665748A7E]\n\t(No symbol) [0x00007FF66572BD43]\n\t(No symbol) [0x00007FF6656FC162]\n\t(No symbol) [0x00007FF6656FB5BD]\n\t(No symbol) [0x00007FF6656FC994]\n\tMicrosoft::Applications::Events::EventProperty::to_string [0x00007FF665AC722A+1051354]\n\t(No symbol) [0x00007FF66577F596]\n\tMicrosoft::Applications::Events::EventProperty::clear [0x00007FF665816205+34245]\n\tMicrosoft::Applications::Events::EventProperty::clear [0x00007FF66580E6AD+2669]\n\tMicrosoft::Applications::Events::EventProperty::to_string [0x00007FF665AC5F23+1046483]\n\tMicrosoft::Applications::Events::ILogConfiguration::operator* [0x00007FF6658A8988+256696]\n\tMicrosoft::Applications::Events::ILogConfiguration::operator* [0x00007FF6658A4114+238148]\n\tMicrosoft::Applications::Events::ILogConfiguration::operator* [0x00007FF6658A4242+238450]\n\tMicrosoft::Applications::Events::ILogConfiguration::operator* [0x00007FF665898FE1+192785]\n\tBaseThreadInitThunk [0x00007FFD62CC257D+29]\n\tRtlUserThreadStart [0x00007FFD6468AA58+40]\n"
     ]
    }
   ],
   "source": [
    "#https://stackoverflow.com/questions/30002313/finding-elements-by-class-name-with-selenium-in-python\n",
    "from selenium.webdriver.common.by import By\n",
    "\n",
    "driver.find_element(By.XPATH, '//*[@id=\"tsf\"]/div[1]/div[1]/div[2]/button/div/span/svg')"
   ]
  },
  {
   "cell_type": "code",
   "execution_count": null,
   "id": "2eb6b4b4-53c1-451b-9a7c-abf42e46dc83",
   "metadata": {},
   "outputs": [],
   "source": [
    "#send_keys模擬鍵盤輸入\n",
    "from selenium.webdriver.common.keys import Keys"
   ]
  }
 ],
 "metadata": {
  "kernelspec": {
   "display_name": "Python 3",
   "language": "python",
   "name": "python3"
  },
  "language_info": {
   "codemirror_mode": {
    "name": "ipython",
    "version": 3
   },
   "file_extension": ".py",
   "mimetype": "text/x-python",
   "name": "python",
   "nbconvert_exporter": "python",
   "pygments_lexer": "ipython3",
   "version": "3.8.8"
  }
 },
 "nbformat": 4,
 "nbformat_minor": 5
}
