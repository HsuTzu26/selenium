{
 "cells": [
  {
   "cell_type": "code",
   "execution_count": 1,
   "id": "e2cd1b98-3ded-4e09-ae2b-0d211f1af80e",
   "metadata": {},
   "outputs": [
    {
     "ename": "ModuleNotFoundError",
     "evalue": "No module named 'selenium'",
     "output_type": "error",
     "traceback": [
      "\u001b[1;31m---------------------------------------------------------------------------\u001b[0m",
      "\u001b[1;31mModuleNotFoundError\u001b[0m                       Traceback (most recent call last)",
      "Cell \u001b[1;32mIn[1], line 3\u001b[0m\n\u001b[0;32m      1\u001b[0m \u001b[38;5;66;03m# 載入需要的套件\u001b[39;00m\n\u001b[0;32m      2\u001b[0m \u001b[38;5;28;01mimport\u001b[39;00m \u001b[38;5;21;01mtime\u001b[39;00m\n\u001b[1;32m----> 3\u001b[0m \u001b[38;5;28;01mfrom\u001b[39;00m \u001b[38;5;21;01mselenium\u001b[39;00m \u001b[38;5;28;01mimport\u001b[39;00m webdriver\n\u001b[0;32m      4\u001b[0m \u001b[38;5;28;01mfrom\u001b[39;00m \u001b[38;5;21;01mselenium\u001b[39;00m\u001b[38;5;21;01m.\u001b[39;00m\u001b[38;5;21;01mwebdriver\u001b[39;00m \u001b[38;5;28;01mimport\u001b[39;00m EdgeOptions\n\u001b[0;32m      5\u001b[0m \u001b[38;5;28;01mfrom\u001b[39;00m \u001b[38;5;21;01mselenium\u001b[39;00m\u001b[38;5;21;01m.\u001b[39;00m\u001b[38;5;21;01mwebdriver\u001b[39;00m\u001b[38;5;21;01m.\u001b[39;00m\u001b[38;5;21;01mcommon\u001b[39;00m\u001b[38;5;21;01m.\u001b[39;00m\u001b[38;5;21;01mby\u001b[39;00m \u001b[38;5;28;01mimport\u001b[39;00m By\n",
      "\u001b[1;31mModuleNotFoundError\u001b[0m: No module named 'selenium'"
     ]
    }
   ],
   "source": [
    "# 載入需要的套件\n",
    "import time\n",
    "from selenium import webdriver\n",
    "from selenium.webdriver import EdgeOptions\n",
    "from selenium.webdriver.common.by import By\n",
    "from selenium.webdriver.edge.options import Options\n",
    "\n",
    "ckan_url = \"your ckan url\"\n",
    "login_url = ckan_url + \"/user/saml2login\"\n",
    "\n",
    "_options = EdgeOptions() \n",
    "_options.add_argument('--headless')  # 啟動Headless 無頭\n",
    "\n",
    "driver = webdriver.Edge(options=_options)\n",
    "\n",
    "driver.get(login_url)"
   ]
  },
  {
   "cell_type": "code",
   "execution_count": 2,
   "id": "79f5bf63-df09-40ec-89a8-6da15b15411b",
   "metadata": {},
   "outputs": [
    {
     "ename": "NameError",
     "evalue": "name 'driver' is not defined",
     "output_type": "error",
     "traceback": [
      "\u001b[1;31m---------------------------------------------------------------------------\u001b[0m",
      "\u001b[1;31mNameError\u001b[0m                                 Traceback (most recent call last)",
      "Cell \u001b[1;32mIn[2], line 4\u001b[0m\n\u001b[0;32m      1\u001b[0m acc\u001b[38;5;241m=\u001b[39m\u001b[38;5;124m\"\u001b[39m\u001b[38;5;124mxxxxx@gmail.com\u001b[39m\u001b[38;5;124m\"\u001b[39m\n\u001b[0;32m      2\u001b[0m pwd\u001b[38;5;241m=\u001b[39m\u001b[38;5;124m\"\u001b[39m\u001b[38;5;124mxxxxx\u001b[39m\u001b[38;5;124m\"\u001b[39m\n\u001b[1;32m----> 4\u001b[0m acc_box \u001b[38;5;241m=\u001b[39m \u001b[43mdriver\u001b[49m\u001b[38;5;241m.\u001b[39mfind_element(By\u001b[38;5;241m.\u001b[39mXPATH, \u001b[38;5;124m'\u001b[39m\u001b[38;5;124m//*[@id=\u001b[39m\u001b[38;5;124m\"\u001b[39m\u001b[38;5;124musername\u001b[39m\u001b[38;5;124m\"\u001b[39m\u001b[38;5;124m]\u001b[39m\u001b[38;5;124m'\u001b[39m)\n\u001b[0;32m      5\u001b[0m acc_box\u001b[38;5;241m.\u001b[39msend_keys(acc)\n\u001b[0;32m      6\u001b[0m pwd_box \u001b[38;5;241m=\u001b[39m driver\u001b[38;5;241m.\u001b[39mfind_element(By\u001b[38;5;241m.\u001b[39mXPATH, \u001b[38;5;124m'\u001b[39m\u001b[38;5;124m//*[@id=\u001b[39m\u001b[38;5;124m\"\u001b[39m\u001b[38;5;124mpassword\u001b[39m\u001b[38;5;124m\"\u001b[39m\u001b[38;5;124m]\u001b[39m\u001b[38;5;124m'\u001b[39m)\n",
      "\u001b[1;31mNameError\u001b[0m: name 'driver' is not defined"
     ]
    }
   ],
   "source": [
    "acc=\"xxxxx@gmail.com\"\n",
    "pwd=\"xxxxx\"\n",
    "\n",
    "acc_box = driver.find_element(By.XPATH, '//*[@id=\"username\"]')\n",
    "acc_box.send_keys(acc)\n",
    "pwd_box = driver.find_element(By.XPATH, '//*[@id=\"password\"]')\n",
    "pwd_box.send_keys(pwd)\n",
    "\n",
    "signin_btn = driver.find_element(By.XPATH, '//*[@id=\"kc-login\"]')\n",
    "signin_btn.click()"
   ]
  },
  {
   "cell_type": "code",
   "execution_count": 3,
   "id": "60cd7cd8-fccd-48f8-ae93-bc0a3124792e",
   "metadata": {},
   "outputs": [
    {
     "ename": "NameError",
     "evalue": "name 'ckan_url' is not defined",
     "output_type": "error",
     "traceback": [
      "\u001b[1;31m---------------------------------------------------------------------------\u001b[0m",
      "\u001b[1;31mNameError\u001b[0m                                 Traceback (most recent call last)",
      "Cell \u001b[1;32mIn[3], line 2\u001b[0m\n\u001b[0;32m      1\u001b[0m \u001b[38;5;66;03m# user = acc.split(\"@\")[0] #attention . -> -\u001b[39;00m\n\u001b[1;32m----> 2\u001b[0m user_url \u001b[38;5;241m=\u001b[39m \u001b[43mckan_url\u001b[49m \u001b[38;5;241m+\u001b[39m \u001b[38;5;124m\"\u001b[39m\u001b[38;5;124m/user/emilyhwang-tw/api-tokens\u001b[39m\u001b[38;5;124m\"\u001b[39m\n\u001b[0;32m      3\u001b[0m driver\u001b[38;5;241m.\u001b[39mget(user_url)\n",
      "\u001b[1;31mNameError\u001b[0m: name 'ckan_url' is not defined"
     ]
    }
   ],
   "source": [
    "# user = acc.split(\"@\")[0] #attention . -> -\n",
    "user_url = ckan_url + \"/user/emilyhwang-tw/api-tokens\"\n",
    "driver.get(user_url)"
   ]
  },
  {
   "cell_type": "code",
   "execution_count": 4,
   "id": "c06c70b7-54d3-4d03-baa0-7582ca269384",
   "metadata": {},
   "outputs": [
    {
     "ename": "NameError",
     "evalue": "name 'driver' is not defined",
     "output_type": "error",
     "traceback": [
      "\u001b[1;31m---------------------------------------------------------------------------\u001b[0m",
      "\u001b[1;31mNameError\u001b[0m                                 Traceback (most recent call last)",
      "Cell \u001b[1;32mIn[4], line 2\u001b[0m\n\u001b[0;32m      1\u001b[0m TOKEN_NAME \u001b[38;5;241m=\u001b[39m \u001b[38;5;124m\"\u001b[39m\u001b[38;5;124mtest2\u001b[39m\u001b[38;5;124m\"\u001b[39m\n\u001b[1;32m----> 2\u001b[0m API_Name_box \u001b[38;5;241m=\u001b[39m \u001b[43mdriver\u001b[49m\u001b[38;5;241m.\u001b[39mfind_element(By\u001b[38;5;241m.\u001b[39mXPATH, \u001b[38;5;124m'\u001b[39m\u001b[38;5;124m//*[@id=\u001b[39m\u001b[38;5;124m\"\u001b[39m\u001b[38;5;124mname\u001b[39m\u001b[38;5;124m\"\u001b[39m\u001b[38;5;124m]\u001b[39m\u001b[38;5;124m'\u001b[39m) \n\u001b[0;32m      3\u001b[0m API_Name_box\u001b[38;5;241m.\u001b[39msend_keys(TOKEN_NAME)\n\u001b[0;32m      5\u001b[0m create_TOKEN_btn \u001b[38;5;241m=\u001b[39m driver\u001b[38;5;241m.\u001b[39mfind_element(By\u001b[38;5;241m.\u001b[39mXPATH, \u001b[38;5;124m'\u001b[39m\u001b[38;5;124m//*[@id=\u001b[39m\u001b[38;5;124m\"\u001b[39m\u001b[38;5;124mcontent\u001b[39m\u001b[38;5;124m\"\u001b[39m\u001b[38;5;124m]/div[3]/div/article/div/div/form/button\u001b[39m\u001b[38;5;124m'\u001b[39m)\n",
      "\u001b[1;31mNameError\u001b[0m: name 'driver' is not defined"
     ]
    }
   ],
   "source": [
    "TOKEN_NAME = \"test2\"\n",
    "API_Name_box = driver.find_element(By.XPATH, '//*[@id=\"name\"]') \n",
    "API_Name_box.send_keys(TOKEN_NAME)\n",
    "\n",
    "create_TOKEN_btn = driver.find_element(By.XPATH, '//*[@id=\"content\"]/div[3]/div/article/div/div/form/button')\n",
    "create_TOKEN_btn.click()"
   ]
  },
  {
   "cell_type": "code",
   "execution_count": 5,
   "id": "2bb7b4b6-bd4a-4747-a948-f6ef051c0e63",
   "metadata": {},
   "outputs": [
    {
     "ename": "NameError",
     "evalue": "name 'driver' is not defined",
     "output_type": "error",
     "traceback": [
      "\u001b[1;31m---------------------------------------------------------------------------\u001b[0m",
      "\u001b[1;31mNameError\u001b[0m                                 Traceback (most recent call last)",
      "Cell \u001b[1;32mIn[5], line 1\u001b[0m\n\u001b[1;32m----> 1\u001b[0m copy_TOKEN_code \u001b[38;5;241m=\u001b[39m \u001b[43mdriver\u001b[49m\u001b[38;5;241m.\u001b[39mfind_element(By\u001b[38;5;241m.\u001b[39mXPATH, \u001b[38;5;124m'\u001b[39m\u001b[38;5;124m//*[@id=\u001b[39m\u001b[38;5;124m\"\u001b[39m\u001b[38;5;124mcontent\u001b[39m\u001b[38;5;124m\"\u001b[39m\u001b[38;5;124m]/div[1]/div/code\u001b[39m\u001b[38;5;124m'\u001b[39m)\n\u001b[0;32m      2\u001b[0m TOKEN_text \u001b[38;5;241m=\u001b[39m copy_TOKEN_code\u001b[38;5;241m.\u001b[39mtext\n\u001b[0;32m      4\u001b[0m edit_profile_url \u001b[38;5;241m=\u001b[39m ckan_url \u001b[38;5;241m+\u001b[39m \u001b[38;5;124m\"\u001b[39m\u001b[38;5;124m/user/edit/emilyhwang-tw\u001b[39m\u001b[38;5;124m\"\u001b[39m\n",
      "\u001b[1;31mNameError\u001b[0m: name 'driver' is not defined"
     ]
    }
   ],
   "source": [
    "copy_TOKEN_code = driver.find_element(By.XPATH, '//*[@id=\"content\"]/div[1]/div/code')\n",
    "TOKEN_text = copy_TOKEN_code.text\n",
    "\n",
    "edit_profile_url = ckan_url + \"/user/edit/emilyhwang-tw\"\n",
    "driver.get(edit_profile_url)"
   ]
  },
  {
   "cell_type": "code",
   "execution_count": 6,
   "id": "c5f4cc6a-a050-40fe-ae28-1ba6ffcde424",
   "metadata": {},
   "outputs": [
    {
     "ename": "NameError",
     "evalue": "name 'driver' is not defined",
     "output_type": "error",
     "traceback": [
      "\u001b[1;31m---------------------------------------------------------------------------\u001b[0m",
      "\u001b[1;31mNameError\u001b[0m                                 Traceback (most recent call last)",
      "Cell \u001b[1;32mIn[6], line 2\u001b[0m\n\u001b[0;32m      1\u001b[0m \u001b[38;5;66;03m# Regenerate_API_Key_url = ckan_url + \"/user/generate_key\"\u001b[39;00m\n\u001b[1;32m----> 2\u001b[0m generate_url \u001b[38;5;241m=\u001b[39m \u001b[43mdriver\u001b[49m\u001b[38;5;241m.\u001b[39mfind_element(By\u001b[38;5;241m.\u001b[39mXPATH, \u001b[38;5;124m'\u001b[39m\u001b[38;5;124m//*[@id=\u001b[39m\u001b[38;5;124m\"\u001b[39m\u001b[38;5;124muser-edit-form\u001b[39m\u001b[38;5;124m\"\u001b[39m\u001b[38;5;124m]/div/a[2]\u001b[39m\u001b[38;5;124m'\u001b[39m)\n\u001b[0;32m      3\u001b[0m generate_url\u001b[38;5;241m.\u001b[39mclick()\n\u001b[0;32m      5\u001b[0m time\u001b[38;5;241m.\u001b[39msleep(\u001b[38;5;241m5\u001b[39m)\n",
      "\u001b[1;31mNameError\u001b[0m: name 'driver' is not defined"
     ]
    }
   ],
   "source": [
    "# Regenerate_API_Key_url = ckan_url + \"/user/generate_key\"\n",
    "generate_url = driver.find_element(By.XPATH, '//*[@id=\"user-edit-form\"]/div/a[2]')\n",
    "generate_url.click()\n",
    "\n",
    "time.sleep(5)\n",
    "\n",
    "confirm_btn = driver.find_element(By.XPATH, '/html/body/div[5]/div/div/div[3]/button[2]')\n",
    "confirm_btn.click()"
   ]
  },
  {
   "cell_type": "code",
   "execution_count": 7,
   "id": "b0af544d-f00d-4edb-b6f6-e858f9b4824b",
   "metadata": {},
   "outputs": [
    {
     "ename": "NameError",
     "evalue": "name 'driver' is not defined",
     "output_type": "error",
     "traceback": [
      "\u001b[1;31m---------------------------------------------------------------------------\u001b[0m",
      "\u001b[1;31mNameError\u001b[0m                                 Traceback (most recent call last)",
      "Cell \u001b[1;32mIn[7], line 1\u001b[0m\n\u001b[1;32m----> 1\u001b[0m \u001b[43mdriver\u001b[49m\u001b[38;5;241m.\u001b[39mquit() \u001b[38;5;66;03m# 把瀏覽器關閉\u001b[39;00m\n",
      "\u001b[1;31mNameError\u001b[0m: name 'driver' is not defined"
     ]
    }
   ],
   "source": [
    "driver.quit() # 把瀏覽器關閉"
   ]
  },
  {
   "cell_type": "code",
   "execution_count": 8,
   "id": "e481c357-3401-48fa-a7cf-f2142f1443ff",
   "metadata": {},
   "outputs": [
    {
     "ename": "NameError",
     "evalue": "name 'TOKEN_text' is not defined",
     "output_type": "error",
     "traceback": [
      "\u001b[1;31m---------------------------------------------------------------------------\u001b[0m",
      "\u001b[1;31mNameError\u001b[0m                                 Traceback (most recent call last)",
      "Cell \u001b[1;32mIn[8], line 1\u001b[0m\n\u001b[1;32m----> 1\u001b[0m \u001b[38;5;28mprint\u001b[39m(\u001b[43mTOKEN_text\u001b[49m)\n",
      "\u001b[1;31mNameError\u001b[0m: name 'TOKEN_text' is not defined"
     ]
    }
   ],
   "source": [
    "print(TOKEN_text)"
   ]
  }
 ],
 "metadata": {
  "kernelspec": {
   "display_name": "Python 3",
   "language": "python",
   "name": "python3"
  },
  "language_info": {
   "codemirror_mode": {
    "name": "ipython",
    "version": 3
   },
   "file_extension": ".py",
   "mimetype": "text/x-python",
   "name": "python",
   "nbconvert_exporter": "python",
   "pygments_lexer": "ipython3",
   "version": "3.10.2"
  }
 },
 "nbformat": 4,
 "nbformat_minor": 5
}
